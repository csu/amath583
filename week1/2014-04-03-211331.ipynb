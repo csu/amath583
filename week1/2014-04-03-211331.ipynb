{
 "metadata": {
  "name": ""
 },
 "nbformat": 3,
 "nbformat_minor": 0,
 "worksheets": [
  {
   "cells": [
    {
     "cell_type": "code",
     "collapsed": false,
     "input": [
      "\"\"\"\n",
      "This short code snippet utilizes the new animation package in\n",
      "matplotlib 1.1.0; it's the shortest snippet that I know of that can\n",
      "produce an animated plot in python. I'm still hoping that the\n",
      "animate package's syntax can be simplified further. \n",
      "\"\"\"\n",
      "import numpy as np\n",
      "import matplotlib.pyplot as plt\n",
      "import matplotlib.animation as animation\n",
      " \n",
      "def simData():\n",
      "# this function is called as the argument for\n",
      "# the simPoints function. This function contains\n",
      "# (or defines) and iterator---a device that computes\n",
      "# a value, passes it back to the main program, and then\n",
      "# returns to exactly where it left off in the function upon the\n",
      "# next call. I believe that one has to use this method to animate\n",
      "# a function using the matplotlib animation package.\n",
      "#\n",
      "    t_max = 10.0\n",
      "    dt = 0.05\n",
      "    x = 0.0\n",
      "    t = 0.0\n",
      "    while t < t_max:\n",
      "        x = np.sin(np.pi*t)\n",
      "        t = t + dt\n",
      "        yield x, t\n",
      " \n",
      "def simPoints(simData):\n",
      "    x, t = simData[0], simData[1]\n",
      "    time_text.set_text(time_template%(t))\n",
      "    line.set_data(t, x)\n",
      "    return line, time_text\n",
      " \n",
      "##\n",
      "##   set up figure for plotting:\n",
      "##\n",
      "fig = plt.figure()\n",
      "ax = fig.add_subplot(111)\n",
      "# I'm still unfamiliar with the following line of code:\n",
      "line, = ax.plot([], [], 'bo', ms=10)\n",
      "ax.set_ylim(-1, 1)\n",
      "ax.set_xlim(0, 10)\n",
      "##\n",
      "time_template = 'Time = %.1f s'    # prints running simulation time\n",
      "time_text = ax.text(0.05, 0.9, '', transform=ax.transAxes)\n",
      "## Now call the animation package: (simData is the user function\n",
      "## serving as the argument for simPoints):\n",
      "ani = animation.FuncAnimation(fig, simPoints, simData, blit=False,\\\n",
      "     interval=10, repeat=True)\n",
      "ani.save('simple-ani.mp4')\n",
      "\n",
      "plt.show()"
     ],
     "language": "python",
     "metadata": {},
     "outputs": [
      {
       "metadata": {},
       "output_type": "display_data",
       "png": "[encoded data removed]",
       "text": [
        "<matplotlib.figure.Figure at 0x277a2d0>"
       ]
      }
     ],
     "prompt_number": 3
    },
    {
     "cell_type": "code",
     "collapsed": false,
     "input": [],
     "language": "python",
     "metadata": {},
     "outputs": []
    }
   ],
   "metadata": {}
  }
 ]
}